{
 "cells": [
  {
   "cell_type": "markdown",
   "metadata": {},
   "source": [
    "# Capstone Notebook 1\n",
    "\n",
    "Team Agronomics will use this notebook to create final datasets for data analysis. As a team we will decide which variables to analyze inorder to investigate possible relationships among the data. \n",
    "\n",
    "#This notebook includes the following. \n",
    "\n",
    "Current Datasets\n",
    "Functions for data ingestion and manipulation\n",
    "    Merging data and dropping columns\n",
    "Graphs for descriptive statistics (line, scatter, histogram)\n",
    "\n",
    "Data in this Notebook: \n",
    "Study Area: Fresno, California\n",
    "Crop: Almonds\n",
    "Weather Data: Temeperature and Precipitation\n",
    "Social Data: Census 2010 and American Community Survey 2013\n",
    "\n"
   ]
  },
  {
   "cell_type": "code",
   "execution_count": 49,
   "metadata": {},
   "outputs": [],
   "source": [
    "import sys # provides information about constants, functions, and methods of the Python interpreter\n",
    "\n",
    "import pandas as pd \n",
    "import numpy as np\n",
    "\n",
    "%matplotlib inline \n",
    "import matplotlib.pyplot as plt #importing pyplot and pylab allows for the points, lines, and polygons to be plotted for visualization \n",
    "\n",
    "#from pipetools import pipe # HELP"
   ]
  },
  {
   "cell_type": "markdown",
   "metadata": {},
   "source": [
    "# Data Ingest\n",
    "\n",
    "#Read in Capstone Project Data\n",
    "#All Census Data "
   ]
  },
  {
   "cell_type": "code",
   "execution_count": 26,
   "metadata": {},
   "outputs": [],
   "source": [
    "# 2010 Census \n",
    "df1 = pd.read_csv('Census_2010_CountyLev_CA.csv', nrows= 50)\n",
    "#df1\n",
    "# Will rename as census2010 after data clean-up\n",
    "\n",
    "# American Communnity Survey 2013\n",
    "df2 = pd.read_csv('ACS2009_13_County_CA.csv', nrows= 50)\n",
    "#df2\n",
    "#Will rename as acs2013 after data cleanup\n"
   ]
  },
  {
   "cell_type": "markdown",
   "metadata": {},
   "source": [
    "# Crop Data"
   ]
  },
  {
   "cell_type": "code",
   "execution_count": 27,
   "metadata": {},
   "outputs": [],
   "source": [
    "# Alomnd production 2005 -2015 in Fresno, CA\n",
    "\n",
    "almprod05 = pd.read_csv('2005cropyear_production.csv', nrows = 50)\n",
    "#almprod05\n",
    "\n",
    "almprod06 = pd.read_csv('2006cropyear_production.csv', nrows = 50)\n",
    "#almprod06\n",
    "\n",
    "almprod07 = pd.read_csv('2007cropyear_production.csv', nrows = 50)\n",
    "#almprod07\n",
    "\n",
    "almprod08 = pd.read_csv('2008cropyear_production.csv', nrows = 50)\n",
    "#almprod08\n",
    "\n",
    "almprod09 = pd.read_csv('2009cropyear_production.csv', nrows = 50)\n",
    "#almprod09\n",
    "\n",
    "almprod10 = pd.read_csv('2010cropyear_production.csv', nrows = 50)\n",
    "#almprod10\n",
    "\n",
    "almprod11 = pd.read_csv('2011cropyear_production.csv', nrows = 50)\n",
    "#almprod11\n",
    "\n",
    "almprod012 = pd.read_csv('2012cropyear_production.csv', nrows = 50)\n",
    "#almprod12\n",
    "\n",
    "almprod13 = pd.read_csv('2013cropyear_production.csv', nrows = 50)\n",
    "#almprod13\n",
    "\n",
    "almprod14 = pd.read_csv('2014cropyear_production.csv', nrows = 50)\n",
    "#almprod14\n",
    "\n",
    "almprod15 = pd.read_csv('2015cropyear_production.csv', nrows = 50)\n",
    "#almprod15\n",
    "\n",
    "\n"
   ]
  },
  {
   "cell_type": "code",
   "execution_count": 28,
   "metadata": {},
   "outputs": [],
   "source": [
    "# Almond Acreage Planted 1987-2016\n",
    "almacr = pd.read_csv('Alm_Acreage_Planted.csv', skiprows = 2)\n",
    "#almacr\n",
    "\n",
    "#\"Unnamed: 31\" is an empty row in excel. Seperate bearing data into another dataframe"
   ]
  },
  {
   "cell_type": "markdown",
   "metadata": {},
   "source": [
    "# Fresno, CA Weather Data"
   ]
  },
  {
   "cell_type": "code",
   "execution_count": 46,
   "metadata": {},
   "outputs": [],
   "source": [
    " \n",
    "\n",
    "# Annual Precipitation, 1878 - 2016\n",
    "df_prec = pd.read_csv('Fresno_Rainfall_Yearly.csv', skiprows = 2)\n",
    "#df_prec\n",
    "\n",
    "# Replace T (trace => .01 inches) with .005\n",
    "prec_fr = df_prec.replace(['T'], [.005]) #NEED PIPE Function to clean dataset\n",
    "#prec_fr\n",
    "\n",
    "# * Can test the model to see if it fits. If nottry (.004, .006, ext)"
   ]
  },
  {
   "cell_type": "code",
   "execution_count": null,
   "metadata": {
    "collapsed": true
   },
   "outputs": [],
   "source": [
    "#Average Monthly Temperature, 1888 - 2015\n",
    "temp_fr = pd.read_csv('Fresno Average Monthly Temperatures.csv', skiprows = 1)\n",
    "#temp_fr"
   ]
  },
  {
   "cell_type": "markdown",
   "metadata": {},
   "source": [
    "# How to view specific columns"
   ]
  },
  {
   "cell_type": "code",
   "execution_count": null,
   "metadata": {
    "collapsed": true
   },
   "outputs": [],
   "source": [
    " \n",
    "\n",
    "df = pd.read_csv('filename', usecols = [0,1,2,3,4], skiprows = 1, nrows = 50)\n",
    "#or by column names \n",
    "\n",
    "df = pd.read_csv('filename', usecols = ['Date','Name','Year', 'Age'], skiprows = 1, nrows = 50)"
   ]
  },
  {
   "cell_type": "markdown",
   "metadata": {},
   "source": [
    "# Merging Data and Dropping Columns\n",
    "\n",
    "#Merging Columns \n",
    "\n",
    "Use previously created varibales ( or dataframe names) that contain the necessary data from the \"Main Data\" and \"Reference Data\", we can conduct a merge or join of these two datasets to create ONE dataframe with all the data we will need. \n",
    "\n",
    "The \"left variable contains the \"Main Data\" information. The \"left\" argument is like a 'left join' or joining the items to the left data. \n",
    "\n",
    "The \"left_on\" parameter will indicate which column or columns you want to join to be done on the \"left\" data\n",
    "\n",
    "The \"suffixes\" parameter is where you can indicate what suffixes ou want to use on duplicated column headings. The first suffix is for the left data and the second suffix is for the rigth data. For example: One may use this when comparing same varibles for different years. 2000 equals suffix a, 2001 equals suffix b. Variable name: Column1: Temperature.a ; Column2: Temperature.b\n",
    "\n",
    "#Dropping Columns\n",
    "\n",
    "axis = 1 indicated to the fucntion to collect the columns, \"axis = 0' indicates to the fuctionto collect rows that contain the value indicated; \"inplace = True\" indicates that the dataframe itself will be changed, where \"inplace = False\" will return a copy of the dataframe. "
   ]
  },
  {
   "cell_type": "code",
   "execution_count": null,
   "metadata": {
    "collapsed": true
   },
   "outputs": [],
   "source": [
    "#Merge\n",
    "\n",
    "left = MainData\n",
    "right = ReferenceData\n",
    "newdata = pd.merge(left,right,how ='left', left_on = ['column names'], right_on =['column names'], suffixes =('.a','.b'))\n",
    "\n",
    "#Drop\n",
    "\n",
    "df.drop([col for col in df.columns if 'column name'in col], axis = 1,inplace = True)\n",
    "#df\n",
    "\n"
   ]
  },
  {
   "cell_type": "markdown",
   "metadata": {},
   "source": [
    "# Saving cleaned data to another file and resetting the variable to use the new file"
   ]
  },
  {
   "cell_type": "code",
   "execution_count": null,
   "metadata": {
    "collapsed": true
   },
   "outputs": [],
   "source": [
    "\n",
    "\n",
    "#To export or create a new file with the information that you want, you can use the following by using \"df\" and \n",
    "#the function \"to csv\" - this can be named to any file you want. \n",
    "\n",
    "#The \"index label\" parameter is not present in the line of code it defaults to being an unnamed column. \n",
    "#If you want to name a column, you just input a string, for example: index_label = 'NAME'\n",
    "\n",
    "df.tocsv('filename', columns = ['insert volumn names'], index_label = False) # False means that there is not two columns of index numbers\n"
   ]
  },
  {
   "cell_type": "markdown",
   "metadata": {},
   "source": [
    "# Visualize Data / Descriptive Statistics"
   ]
  },
  {
   "cell_type": "code",
   "execution_count": 47,
   "metadata": {},
   "outputs": [],
   "source": [
    "#Precipitation \n",
    "\n",
    "## plt.plot(['prec_fr'])\n",
    "## plt.xlabel('month')\n",
    "## plt.ylabel('year')\n",
    "## plt.show()\n"
   ]
  },
  {
   "cell_type": "code",
   "execution_count": null,
   "metadata": {
    "collapsed": true
   },
   "outputs": [],
   "source": [
    "#Temperature \n",
    "\n",
    "plt.plot(['temp_fr'])\n",
    "plt.xlabel('month')\n",
    "plt.ylabel('year')\n",
    "plt.show()"
   ]
  },
  {
   "cell_type": "code",
   "execution_count": null,
   "metadata": {
    "collapsed": true
   },
   "outputs": [],
   "source": [
    "#Graph two variables\n"
   ]
  },
  {
   "cell_type": "code",
   "execution_count": null,
   "metadata": {
    "collapsed": true
   },
   "outputs": [],
   "source": [
    "#Scatter Plot \n",
    "# Check to see if there is a relationship between two variables\n",
    "\n",
    "df = pd.read_csv('filename.csv')\n",
    "X_Var = 'column name'\n",
    "Y_Var = 'column name'\n",
    "Size = df.\n",
    "\n",
    "# Drop NA/ null values if needed\n",
    "## df2 =df.dropna()\n",
    "\n",
    "#Show dataframe\n",
    "df2.head()\n",
    "\n",
    "df_scatterplot = df2.plot(kind ='scatter',x =X_Var, y=Y_Var, s = Size, grid = True) # s = allows user to change size of points\n",
    "\n"
   ]
  },
  {
   "cell_type": "code",
   "execution_count": null,
   "metadata": {
    "collapsed": true
   },
   "outputs": [],
   "source": [
    "# Histogram \n",
    "#Histogram is used to represent the distribution of numerical data \n",
    "#The bins automatically default to 10, but if you add bins = you can select the bin number\n",
    "\n",
    "hist = df_Group.hist('column name', bins = 7)\n",
    "plt.savefig('Histogram')"
   ]
  }
 ],
 "metadata": {
  "kernelspec": {
   "display_name": "Python 3",
   "language": "python",
   "name": "python3"
  },
  "language_info": {
   "codemirror_mode": {
    "name": "ipython",
    "version": 3
   },
   "file_extension": ".py",
   "mimetype": "text/x-python",
   "name": "python",
   "nbconvert_exporter": "python",
   "pygments_lexer": "ipython3",
   "version": "3.6.2"
  }
 },
 "nbformat": 4,
 "nbformat_minor": 2
}
