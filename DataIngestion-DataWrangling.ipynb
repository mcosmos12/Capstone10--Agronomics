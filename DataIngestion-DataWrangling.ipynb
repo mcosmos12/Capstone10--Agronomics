{
 "cells": [
  {
   "cell_type": "markdown",
   "metadata": {},
   "source": [
    "# Data Ingestion and Data Wrangling \n",
    "\n",
    "Capstone 10: Agronomics "
   ]
  },
  {
   "cell_type": "code",
   "execution_count": 1,
   "metadata": {
    "collapsed": true
   },
   "outputs": [],
   "source": [
    "import os\n",
    "import pandas as pd\n",
    "import csv\n",
    "import numpy as np\n",
    "from functools import reduce\n",
    "from pandas import DataFrame, Series \n",
    "import glob"
   ]
  },
  {
   "cell_type": "markdown",
   "metadata": {},
   "source": [
    "Combining crop data for 1980 to 2015 into one dataframe. The original crop data files were initially named to have the same file ending \"cropyear_production.csv\""
   ]
  },
  {
   "cell_type": "code",
   "execution_count": null,
   "metadata": {
    "collapsed": true
   },
   "outputs": [],
   "source": [
    "# Taking ALL the csv files for crop production. This was manually put in one folder by project creators \n",
    "\n",
    "path =r'csv_data/'\n",
    "filenames = glob.glob(path + \"/*cropyear_production.csv\")\n",
    "\n",
    "#Creates an empty list for a dataframe (sets up data frame for combining all crop data files into one dataframe)\n",
    "dfs = []\n",
    "for filename in filenames:\n",
    "    dfs.append(pd.read_csv(filename))\n",
    "    \n",
    "# Concatenate all data into one DataFrame (within the empty list)\n",
    "big_frame = pd.concat(dfs, ignore_index=True)"
   ]
  },
  {
   "cell_type": "code",
   "execution_count": null,
   "metadata": {
    "collapsed": true
   },
   "outputs": [],
   "source": [
    "# Create a csv file named CROP_PRODUCTION_ALL for the data from big_frame\n",
    "with open('CROP_PRODUCTION_ALL.csv', 'w') as f:\n",
    "    big_frame.to_csv(f, header=False,index=0)"
   ]
  },
  {
   "cell_type": "code",
   "execution_count": null,
   "metadata": {
    "collapsed": true
   },
   "outputs": [],
   "source": [
    "# Create column names \n",
    "colnames=['Year','Commodity_Code','Crop_Name','County_Code','County','Harvested','Yield','Production','Price','Unit','Value'] \n",
    "\n",
    "# Adds the column names to the dataframe \n",
    "crop_production=pd.read_csv('CROP_PRODUCTION_ALL.csv', names=colnames, header=None,dtype=object)"
   ]
  },
  {
   "cell_type": "markdown",
   "metadata": {},
   "source": [
    "Creating files for California counties of interest: \n",
    "1. Fresno County \n",
    "2. Kern County "
   ]
  },
  {
   "cell_type": "code",
   "execution_count": null,
   "metadata": {
    "collapsed": true
   },
   "outputs": [],
   "source": [
    "# Create new data frame for Fresno County \n",
    "\n",
    "crop_production_Fresno=crop_production[crop_production['County'].dropna().str.contains(\"Fresno\") & crop_production['Crop_Name'].dropna().str.contains(\"ALMONDS ALL\")]\n",
    "\n",
    "#Makes all counties named Fresno to remove manual error (from original dataset). This makes the data consistent. \n",
    "crop_production_Fresno['County']='Fresno'\n",
    "\n",
    "#crop_production_Fresno.loc[:,'County']='Fresno'"
   ]
  },
  {
   "cell_type": "code",
   "execution_count": null,
   "metadata": {
    "collapsed": true
   },
   "outputs": [],
   "source": [
    "#Create new data frame for Kern County \n",
    "\n",
    "crop_production_Kern=crop_production[crop_production['County'].dropna().str.contains(\"Kern\") & crop_production['Crop_Name'].dropna().str.contains(\"ALMONDS ALL\")]\n",
    "\n",
    "#Makes all counties named Kern to remove manual error ( from original dataset). This makes the data consistent. \n",
    "crop_production_Kern['County']='Kern'\n",
    "\n",
    "#crop_production_Kern.loc[:,'County']='Kern'"
   ]
  },
  {
   "cell_type": "code",
   "execution_count": null,
   "metadata": {
    "collapsed": true
   },
   "outputs": [],
   "source": [
    "# Confirm dataframe \n",
    "with open('1-CROP_PRODUCTION-Fresno.csv', 'w') as f:\n",
    "    \n",
    "    crop_production_Fresno.to_csv(f, header=True,index=0)\n",
    "f.close()"
   ]
  },
  {
   "cell_type": "code",
   "execution_count": null,
   "metadata": {
    "collapsed": true
   },
   "outputs": [],
   "source": [
    "# Confirm dataframe \n",
    "with open('1-CROP_PRODUCTION-Kern.csv', 'w') as f:\n",
    "    \n",
    "    crop_production_Kern.to_csv(f, header=True,index=0)\n",
    "f.close()"
   ]
  },
  {
   "cell_type": "code",
   "execution_count": null,
   "metadata": {
    "collapsed": true
   },
   "outputs": [],
   "source": [
    "# Define columns for analysis \n",
    "\n",
    "f_crop_f=pd.read_csv('1-CROP_PRODUCTION-Fresno.csv',usecols=['Year','Commodity_Code','County_Code','County','Harvested','Yield','Production','Price','Value'],dtype={'Year':int,'Harvested':int,'Production':int,'Price':float})\n",
    "df_crop_k=pd.read_csv('1-CROP_PRODUCTION-Kern.csv',usecols=['Year','Commodity_Code','County_Code','County','Harvested','Yield','Production','Price','Value'],dtype={'Year':int,'Harvested':int,'Production':int,'Price':float})"
   ]
  },
  {
   "cell_type": "markdown",
   "metadata": {},
   "source": [
    "# Data Ingestion and Wrangling "
   ]
  },
  {
   "cell_type": "markdown",
   "metadata": {},
   "source": [
    "# Precipitation  and Temperature Data \n",
    "# INSERT LINKS TO DATA SOURCES \n",
    "Precipiation: Years 1980 to 2016\n",
    "Temperature: Years 1980 to 2016 "
   ]
  },
  {
   "cell_type": "code",
   "execution_count": null,
   "metadata": {
    "collapsed": true
   },
   "outputs": [],
   "source": [
    "# Fresno County Annual Precipitation (inches)\n",
    "\n",
    "df_prec_f=pd.read_csv(\"f_temp_prec/Fresno_Rainfall_Yearly.csv\")\n",
    "df_prec_f.rename(columns={\n",
    "                 'January': 'January_p',\n",
    "                 'February': 'February_p',\n",
    "                 'March': 'March_p',\n",
    "                 'April': 'April_p',\n",
    "                 'May': 'May_p',\n",
    "                 'June': 'June_p',\n",
    "                 'July': 'July_p',\n",
    "                 'August': 'August_p',\n",
    "                 'September': 'September_p',\n",
    "                 'October': 'October_p',\n",
    "                 'November': 'November_p',\n",
    "                 'December': 'December_p',\n",
    "                 'Total': 'Total_p'}, inplace=True)"
   ]
  },
  {
   "cell_type": "code",
   "execution_count": null,
   "metadata": {
    "collapsed": true
   },
   "outputs": [],
   "source": [
    "#The precipitation data includes values set as 'T' for Trace. \n",
    "#Trace are precipitation measurments where precipitation occured but did not measure atleast 0.01 inches. \n",
    "# The code below gives a random number between 0.001 and 0.005 for Trace values \n",
    "\n",
    "df_prec_f.replace(['T'],np.random.uniform(+0.001,+0.005), inplace=True)\n",
    "df_prec1_f=df_prec_f[(df_prec_f['Year']>='1980') & (df_prec_f['Year']<'2016')]\n",
    "df_prec1_f = df_prec1_f.astype(float)"
   ]
  },
  {
   "cell_type": "code",
   "execution_count": null,
   "metadata": {
    "collapsed": true
   },
   "outputs": [],
   "source": [
    "with open('2-RAINFALL_FRESNO.csv', 'w') as f:\n",
    "    df_prec1_f.to_csv(f, header=True,index=0,float_format='%.3f') #take 3 decimals places \n",
    "f.close()"
   ]
  },
  {
   "cell_type": "code",
   "execution_count": null,
   "metadata": {
    "collapsed": true
   },
   "outputs": [],
   "source": [
    "df_prec_k=pd.read_csv(\"k_temp_prec/Kern_Rainfall_Yearly.csv\")\n",
    "df_prec_k.columns=['Year','January_p','February_p','March_p','April_p','May_p','June_p','July_p','August_p','September_p','October_p','November_p','December_p','Total_p']"
   ]
  },
  {
   "cell_type": "code",
   "execution_count": null,
   "metadata": {
    "collapsed": true
   },
   "outputs": [],
   "source": [
    "df_prec_k.replace(['T'],np.random.uniform(+0.001,+0.005), inplace=True)\n",
    "df_prec_k = df_prec_k.astype(float)\n",
    "# data needs to be cleaned and consistent \n",
    "df_prec_k.replace(r'[\\-]+', r'', regex=True, inplace=True)\n",
    "df_prec1_k=df_prec_k[(df_prec_k['Year']>=1980) & (df_prec_k['Year']<2016)]\n",
    "df_prec1_k = df_prec_k.astype(float)"
   ]
  },
  {
   "cell_type": "code",
   "execution_count": null,
   "metadata": {
    "collapsed": true
   },
   "outputs": [],
   "source": [
    "with open('2-RAINFALL_KERN.csv', 'w') as f:\n",
    "    #df_prec1_k = df_prec1_k.astype(float)\n",
    "    df_prec1_k.to_csv(f, header=True,index=0,float_format='%.3f')\n",
    "f.close()"
   ]
  },
  {
   "cell_type": "code",
   "execution_count": null,
   "metadata": {
    "collapsed": true
   },
   "outputs": [],
   "source": [
    "# Temperature (degrees Fahrenhiet)\n",
    "df_temp_f=pd.read_csv(\"f_temp_prec/Fresno_Average_Monthly_Temperatures.csv\")\n",
    "df_temp_f.rename(columns={\n",
    "                 'January': 'January_t',\n",
    "                 'February': 'February_t',\n",
    "                 'March': 'March_t',\n",
    "                 'April': 'April_t',\n",
    "                 'May': 'May_t',\n",
    "                 'June': 'June_t',\n",
    "                 'July': 'July_t',\n",
    "                 'August': 'August_t',\n",
    "                 'September': 'September_t',\n",
    "                 'October': 'October_t',\n",
    "                 'November': 'November_t',\n",
    "                 'December': 'December_t',\n",
    "                 'Annual': 'Annual_t'}, inplace=True)"
   ]
  },
  {
   "cell_type": "code",
   "execution_count": null,
   "metadata": {
    "collapsed": true
   },
   "outputs": [],
   "source": [
    "df_temp1_f=df_temp_f[(df_temp_f['Year']>=1980) & (df_temp_f['Year']<2016)]\n",
    "df_temp1_f = df_temp1_f.astype(float)"
   ]
  },
  {
   "cell_type": "code",
   "execution_count": null,
   "metadata": {
    "collapsed": true
   },
   "outputs": [],
   "source": [
    "df_temp_k=pd.read_csv(\"k_temp_prec/Kern_Average_Temperatures.csv\")\n",
    "df_temp_k.rename(columns={\n",
    "                 'January': 'January_t',\n",
    "                 'February': 'February_t',\n",
    "                 'March': 'March_t',\n",
    "                 'April': 'April_t',\n",
    "                 'May': 'May_t',\n",
    "                 'June': 'June_t',\n",
    "                 'July': 'July_t',\n",
    "                 'August': 'August_t',\n",
    "                 'September': 'September_t',\n",
    "                 'October': 'October_t',\n",
    "                 'November': 'November_t',\n",
    "                 'December': 'December_t',\n",
    "                 'Annual': 'Annual_t'}, inplace=True)"
   ]
  },
  {
   "cell_type": "code",
   "execution_count": null,
   "metadata": {
    "collapsed": true
   },
   "outputs": [],
   "source": [
    "df_temp_k.columns=['Year','January_t','February_t','March_t','April_t','May_t','June_t','July_t','August_t','September_t','October_t','November_t','December_t','Annual_t']\n",
    "df_temp_k.replace(r'[\\-]+', r'', regex=True, inplace=True)\n",
    "df_temp1_k=df_temp_k[(df_temp_k['Year']>=1980) & (df_temp_k['Year']<2016)]"
   ]
  },
  {
   "cell_type": "markdown",
   "metadata": {},
   "source": [
    "# Census Data \n",
    "# Insert data source links \n",
    "Year: 1980 - 2015"
   ]
  },
  {
   "cell_type": "code",
   "execution_count": null,
   "metadata": {
    "collapsed": true
   },
   "outputs": [],
   "source": [
    "Fresno County Census "
   ]
  },
  {
   "cell_type": "code",
   "execution_count": null,
   "metadata": {
    "collapsed": true
   },
   "outputs": [],
   "source": [
    "f_census1=pd.read_csv(\"census_data/fresno_percapita_personal_income.csv\")\n",
    "f_census2=pd.read_csv(\"census_data/fresno_personal_income.csv\")\n",
    "f_census3=pd.read_csv(\"census_data/fresno-resident_population.csv\")\n",
    "f_census4=pd.read_csv(\"census_data/fresno_house_price_index.csv\")"
   ]
  },
  {
   "cell_type": "code",
   "execution_count": null,
   "metadata": {
    "collapsed": true
   },
   "outputs": [],
   "source": [
    "f_census_df=[f_census1,f_census2,f_census3,f_census4]\n",
    "fresno_census_concat = reduce(lambda  left,right: pd.merge(left,right,on='DATE', how='left'), f_census_df)\n",
    "fresno_census_concat['DATE'] = fresno_census_concat['DATE'].map(lambda x: str(x)[:-6])\n",
    "with open('3-FRESNO_CENSUS_DATA.csv', 'w') as f:\n",
    "    fresno_census_concat.to_csv(f, header=True,index=0)\n",
    "\n",
    "col_census=['Year','Percapita_Personal_Income','Personal_Income','Resident_Population','House_Price_Index']\n",
    "fresno_census=pd.read_csv('FRESNO_CENSUS_DATA.csv', names=col_census)\n",
    "fresno_census=fresno_census[(fresno_census['Year']>='1980') & (fresno_census['Year']<'2016')]\n",
    "fresno_census = fresno_census.astype(float)"
   ]
  },
  {
   "cell_type": "markdown",
   "metadata": {},
   "source": [
    "Kern County Census "
   ]
  },
  {
   "cell_type": "code",
   "execution_count": null,
   "metadata": {
    "collapsed": true
   },
   "outputs": [],
   "source": [
    "k_census1=pd.read_csv(\"census_data/kern_percapita_personal_income.csv\")\n",
    "k_census2=pd.read_csv(\"census_data/kern_personal_income.csv\")\n",
    "k_census3=pd.read_csv(\"census_data/kern_resident_population.csv\")\n",
    "k_census4=pd.read_csv(\"census_data/kern_house_price_index.csv\")"
   ]
  },
  {
   "cell_type": "code",
   "execution_count": null,
   "metadata": {
    "collapsed": true
   },
   "outputs": [],
   "source": [
    "# Merge all four census data files into one file \n",
    "\n",
    "k_census_df=[k_census1,k_census2,k_census3,k_census4]\n",
    "kern_census_concat = reduce(lambda  left,right: pd.merge(left,right,on='DATE', how='left'), k_census_df)\n",
    "kern_census_concat['DATE'] = kern_census_concat['DATE'].map(lambda x: str(x)[:-6])\n",
    "\n",
    "kern_census_concat.rename(columns={\n",
    "                 'DATE': 'Year',\n",
    "                 'PCPI06029': 'Percapita_Personal_Income',\n",
    "                 'PI06029': 'Personal_Income',\n",
    "                 'CAKERN0POP': 'Resident_Population',\n",
    "                 'ATNHPIUS06029A': 'House_Price_Index'}, inplace=True)"
   ]
  },
  {
   "cell_type": "code",
   "execution_count": null,
   "metadata": {
    "collapsed": true
   },
   "outputs": [],
   "source": [
    "with open('3-KERN_CENSUS_DATA.csv', 'w') as f:\n",
    "    kern_census_concat.to_csv(f, header=True,index=0)"
   ]
  },
  {
   "cell_type": "code",
   "execution_count": null,
   "metadata": {
    "collapsed": true
   },
   "outputs": [],
   "source": [
    "kern_census=pd.read_csv('KERN_CENSUS_DATA.csv')"
   ]
  },
  {
   "cell_type": "code",
   "execution_count": null,
   "metadata": {
    "collapsed": true
   },
   "outputs": [],
   "source": [
    "kern_census1=kern_census[(kern_census['Year']>=1980) & (kern_census['Year']<2016)]"
   ]
  },
  {
   "cell_type": "code",
   "execution_count": null,
   "metadata": {
    "collapsed": true
   },
   "outputs": [],
   "source": [
    "with open('4-TEMPERATURES_FRESNO.csv', 'w') as f:\n",
    "    df_temp1_k = df_temp1_k.astype(float)\n",
    "\n",
    "    df_temp1_f.to_csv(f, header=True,index=0)\n",
    "f.close()"
   ]
  },
  {
   "cell_type": "code",
   "execution_count": null,
   "metadata": {
    "collapsed": true
   },
   "outputs": [],
   "source": [
    "with open('4-TEMPERATURES_KERN.csv', 'w') as f:\n",
    "    df_temp1_k.to_csv(f, header=True,index=0)\n",
    "f.close()"
   ]
  },
  {
   "cell_type": "markdown",
   "metadata": {},
   "source": [
    "# Combine Crop Production, Weather, and Census Data "
   ]
  },
  {
   "cell_type": "markdown",
   "metadata": {},
   "source": [
    "Fresno County Combined File "
   ]
  },
  {
   "cell_type": "code",
   "execution_count": null,
   "metadata": {
    "collapsed": true
   },
   "outputs": [],
   "source": [
    "fresno_data_frames=[df_crop_f,df_prec1_f,df_temp1_f,fresno_census]\n",
    "\n",
    "df_concat_fresno = reduce(lambda  left,right: pd.merge(left,right,on='Year', how='left'), fresno_data_frames)"
   ]
  },
  {
   "cell_type": "code",
   "execution_count": null,
   "metadata": {
    "collapsed": true
   },
   "outputs": [],
   "source": [
    "Kern County Combined File "
   ]
  },
  {
   "cell_type": "code",
   "execution_count": null,
   "metadata": {
    "collapsed": true
   },
   "outputs": [],
   "source": [
    "kern_data_frames=[df_crop_k,df_prec1_k,df_temp1_k,kern_census]\n",
    "\n",
    "df_concat_kern = reduce(lambda  left,right: pd.merge(left,right,on='Year', how='left'), kern_data_frames)"
   ]
  },
  {
   "cell_type": "code",
   "execution_count": null,
   "metadata": {
    "collapsed": true
   },
   "outputs": [],
   "source": [
    "#Merged all csv files: Crop, weather, and censu\n",
    "with open('5-MERGE.csv', 'w') as f:\n",
    "    df_concat_fresno.to_csv(f, header=True,index=0)\n",
    "    df_concat_kern.to_csv(f, header=False,index=0)\n",
    "f.close()"
   ]
  },
  {
   "cell_type": "markdown",
   "metadata": {},
   "source": [
    "# Almond Production Growing Season "
   ]
  },
  {
   "cell_type": "markdown",
   "metadata": {},
   "source": [
    "Defined growing seasons and added as new columns to 5-Merge dataframe. \n",
    "Precipiation is sum of growing season months (Feburary - June)\n",
    "Temperature is the adverage temperature for growing season months (Feburary- June)"
   ]
  },
  {
   "cell_type": "code",
   "execution_count": null,
   "metadata": {
    "collapsed": true
   },
   "outputs": [],
   "source": [
    "# Added new columns based on the months for growing seasons\n",
    "\n",
    "merge_almond_production=pd.read_csv(\"5-MERGE.csv\")\n",
    "merge_almond_production.insert(9, 'Grow_total_p', (merge_almond_production['February_p']+merge_almond_production['March_p']+merge_almond_production['April_p']+merge_almond_production['May_p']+merge_almond_production['June_p']))\n",
    "merge_almond_production.insert(10, 'Grow_avg_t', (merge_almond_production['February_t']+merge_almond_production['March_t']+merge_almond_production['April_t']+merge_almond_production['May_t']+merge_almond_production['June_t'])/5)"
   ]
  },
  {
   "cell_type": "code",
   "execution_count": null,
   "metadata": {
    "collapsed": true
   },
   "outputs": [],
   "source": [
    "with open('5-MERGE.csv', 'w') as f:\n",
    "    merge_almond_production.to_csv(f, header=True,index=0)\n",
    "\n",
    "f.close()\n",
    "print(merge_almond_production.shape)"
   ]
  }
 ],
 "metadata": {
  "kernelspec": {
   "display_name": "Python 3",
   "language": "python",
   "name": "python3"
  },
  "language_info": {
   "codemirror_mode": {
    "name": "ipython",
    "version": 3
   },
   "file_extension": ".py",
   "mimetype": "text/x-python",
   "name": "python",
   "nbconvert_exporter": "python",
   "pygments_lexer": "ipython3",
   "version": "3.6.2"
  }
 },
 "nbformat": 4,
 "nbformat_minor": 2
}
